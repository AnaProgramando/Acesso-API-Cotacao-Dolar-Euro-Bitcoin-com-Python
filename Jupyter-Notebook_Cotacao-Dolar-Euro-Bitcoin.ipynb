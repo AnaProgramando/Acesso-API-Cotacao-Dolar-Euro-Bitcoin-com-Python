{
 "cells": [
  {
   "cell_type": "markdown",
   "source": [
    "# Jupyter Notebook - Acesso API de Cotação do Dólar, Euro e Bitcoin com Python \n",
    "\n",
    "Objetivo: Puxar o valor das cotações de forma automática e atualizada usando: https://docs.awesomeapi.com.br/api-de-moedas.\n"
   ],
   "metadata": {}
  },
  {
   "cell_type": "code",
   "execution_count": 33,
   "source": [
    "import requests\r\n",
    "import json\r\n",
    "\r\n",
    "cotacoes = requests.get(\"https://economia.awesomeapi.com.br/last/USD-BRL,EUR-BRL,BTC-BRL\")\r\n",
    "cotacoes = cotacoes.json()\r\n",
    "cotacao_dolar = cotacoes['USDBRL'][\"bid\"]\r\n",
    "cotacao_euro = cotacoes['EURBRL'][\"bid\"]\r\n",
    "cotacao_bitcoin = cotacoes['BTCBRL'][\"bid\"]\r\n",
    "\r\n",
    "print(\"\\n Cotação do Dólar Americano/Real Brasileiro: \", cotacao_dolar)\r\n",
    "print(\"\\n Cotação do Euro/Real Brasileiro: \", cotacao_euro)\r\n",
    "print(\"\\n Cotação do Bitcoin/Real Brasileiro: \", cotacao_bitcoin)\r\n",
    "print(\"\\n Cotações sem formatação: \\n\",cotacoes)"
   ],
   "outputs": [
    {
     "output_type": "stream",
     "name": "stdout",
     "text": [
      "\n",
      "Cotação do Dólar Americano/Real Brasileiro: 5.3098\n",
      "\n",
      "Cotação do Euro/Real Brasileiro: 6.2173\n",
      "\n",
      "Cotação do Bitcoin/Real Brasileiro: 173947.2\n",
      "\n",
      " Cotações sem formatação: \n",
      " {'USDBRL': {'code': 'USD', 'codein': 'BRL', 'name': 'Dólar Americano/Real Brasileiro', 'high': '5.3239', 'low': '5.263', 'varBid': '0.0162', 'pctChange': '0.31', 'bid': '5.3098', 'ask': '5.3123', 'timestamp': '1629299404', 'create_date': '2021-08-18 12:10:08'}, 'EURBRL': {'code': 'EUR', 'codein': 'BRL', 'name': 'Euro/Real Brasileiro', 'high': '6.2333', 'low': '6.1663', 'varBid': '0.0198', 'pctChange': '0.32', 'bid': '6.2173', 'ask': '6.2218', 'timestamp': '1629299403', 'create_date': '2021-08-18 12:10:05'}, 'BTCBRL': {'code': 'BTC', 'codein': 'BRL', 'name': 'Bitcoin/Real Brasileiro', 'high': '174000', 'low': '163120', 'varBid': '5469.9', 'pctChange': '3.25', 'bid': '173947.2', 'ask': '173947.2', 'timestamp': '1624558019', 'create_date': '2021-06-24 15:07:00'}}\n"
     ]
    }
   ],
   "metadata": {}
  }
 ],
 "metadata": {
  "kernelspec": {
   "display_name": "Python 3",
   "language": "python",
   "name": "python3"
  },
  "language_info": {
   "codemirror_mode": {
    "name": "ipython",
    "version": 3
   },
   "file_extension": ".py",
   "mimetype": "text/x-python",
   "name": "python",
   "nbconvert_exporter": "python",
   "pygments_lexer": "ipython3",
   "version": "3.8.8"
  }
 },
 "nbformat": 4,
 "nbformat_minor": 5
}
